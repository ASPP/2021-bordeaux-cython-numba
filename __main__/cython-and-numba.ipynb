{
 "cells": [
  {
   "cell_type": "markdown",
   "metadata": {},
   "source": [
    "# Intro to Cython"
   ]
  },
  {
   "cell_type": "markdown",
   "metadata": {},
   "source": [
    "Reminder: please avoid pairs with no C experience"
   ]
  },
  {
   "cell_type": "markdown",
   "metadata": {},
   "source": [
    "## Why Cython\n",
    "\n",
    "![DevTime](whycython.png)"
   ]
  },
  {
   "cell_type": "markdown",
   "metadata": {},
   "source": [
    "Outline:\n",
    "\n",
    "* Speed up Python code using Cython\n",
    "* Interact with NumPy arrays\n",
    "* Release GIL and parallelize using openmp\n",
    "* Wrap C/C++ code\n",
    "* Using Numba to speed up Python code"
   ]
  },
  {
   "cell_type": "markdown",
   "metadata": {},
   "source": [
    "## Part I: Cython"
   ]
  },
  {
   "cell_type": "markdown",
   "metadata": {},
   "source": [
    "We want to integrate the function $f(x) = x^4 - 3x$."
   ]
  },
  {
   "cell_type": "code",
   "execution_count": null,
   "metadata": {},
   "outputs": [],
   "source": [
    "def f(x):\n",
    "    y = x**4 - 3*x\n",
    "    return y\n",
    "    \n",
    "def integrate_f(a, b, n):\n",
    "    dx = (b - a) / n\n",
    "    dx2 = dx / 2\n",
    "    s = f(a) * dx2\n",
    "    for i in range(1, n):\n",
    "        s += f(a + i * dx) * dx\n",
    "    s += f(b) * dx2\n",
    "    return s"
   ]
  },
  {
   "cell_type": "markdown",
   "metadata": {},
   "source": [
    "Now, let's time this:"
   ]
  },
  {
   "cell_type": "code",
   "execution_count": null,
   "metadata": {},
   "outputs": [],
   "source": [
    "%timeit integrate_f(-100, 100, 100_000)"
   ]
  },
  {
   "cell_type": "markdown",
   "metadata": {},
   "source": [
    "Not too bad, but this can add up. So how can we speed this up? Use Cython!\n",
    "\n",
    "**Cython is an optimising static compiler for both the Python programming language and the extended Cython programming language** (based on Pyrex). It makes writing C extensions for Python as easy as Python itself.\n",
    "\n",
    "Cython gives you the combined power of Python and C to let you\n",
    "\n",
    "- write Python code that calls back and forth from and to C or C++ code natively at any point\n",
    "- easily tune readable Python code into plain C performance by adding static type declarations (possibly in Python syntax)\n",
    "- use combined source code level debugging to find bugs in your Python, Cython and C code\n",
    "- interact efficiently with large data sets, e.g. using multi-dimensional NumPy arrays\n",
    "- quickly build your applications within the large, mature and widely used CPython ecosystem\n",
    "- integrate natively with existing code and data from legacy, low-level or high-performance libraries and applications\n",
    "\n",
    "In brief, Cython code is sort of Python code with the best parts of C. Cython code needs to be compiled into C code, which is then compiled as a shared library when your packages is installed. \n",
    "\n",
    "Jupyter makes it easy to write and compile Cython code through `%%cython` magic. \n"
   ]
  },
  {
   "cell_type": "code",
   "execution_count": null,
   "metadata": {},
   "outputs": [],
   "source": [
    "%load_ext cython"
   ]
  },
  {
   "cell_type": "markdown",
   "metadata": {},
   "source": [
    "Let's first use our plain-old Python code, and compile it to C without doing anything to it."
   ]
  },
  {
   "cell_type": "code",
   "execution_count": null,
   "metadata": {},
   "outputs": [],
   "source": [
    "%%cython\n",
    "\n",
    "def f2(x):\n",
    "    y = x**4 - 3*x\n",
    "    return y\n",
    "    \n",
    "def integrate_f2(a, b, n):\n",
    "    dx = (b - a) / n\n",
    "    dx2 = dx / 2\n",
    "    s = f2(a) * dx2\n",
    "    for i in range(1, n):\n",
    "        s += f2(a + i * dx) * dx\n",
    "    s += f2(b) * dx2\n",
    "    return s"
   ]
  },
  {
   "cell_type": "code",
   "execution_count": null,
   "metadata": {},
   "outputs": [],
   "source": [
    "f2"
   ]
  },
  {
   "cell_type": "code",
   "execution_count": null,
   "metadata": {},
   "outputs": [],
   "source": [
    "import sys\n",
    "sys.modules[f2.__module__]"
   ]
  },
  {
   "cell_type": "code",
   "execution_count": null,
   "metadata": {},
   "outputs": [],
   "source": [
    "!ls -l /home/zbyszek/.cache/ipython/cython/_cython_magic_8f7d8e2fe70d4b93e3ed0cd0adce1f8f.cpython-39-x86_64-linux-gnu.so"
   ]
  },
  {
   "cell_type": "code",
   "execution_count": null,
   "metadata": {},
   "outputs": [],
   "source": [
    "%timeit integrate_f2(-100, 100, 100_000)"
   ]
  },
  {
   "cell_type": "markdown",
   "metadata": {},
   "source": [
    "That's a little bit faster, which is nice since all we did was to call Cython on the exact same code. But can we do better?\n",
    "\n",
    "An easy speed up is to annotate the type of objects you are using."
   ]
  },
  {
   "cell_type": "markdown",
   "metadata": {},
   "source": [
    "### Manual type specialization"
   ]
  },
  {
   "cell_type": "code",
   "execution_count": null,
   "metadata": {},
   "outputs": [],
   "source": [
    "%%cython\n",
    "\n",
    "def f3(double x):\n",
    "    y = x**4 - 3*x\n",
    "    return y\n",
    "    \n",
    "def integrate_f3(double a, double b, int n):\n",
    "    dx = (b - a) / n\n",
    "    dx2 = dx / 2\n",
    "    s = f3(a) * dx2\n",
    "    for i in range(1, n):\n",
    "        s += f3(a + i * dx) * dx\n",
    "    s += f3(b) * dx2\n",
    "    return s"
   ]
  },
  {
   "cell_type": "code",
   "execution_count": null,
   "metadata": {},
   "outputs": [],
   "source": [
    "%timeit integrate_f3(-100, 100, 100_000)"
   ]
  },
  {
   "cell_type": "markdown",
   "metadata": {},
   "source": [
    "The final bit of \"easy\" Cython optimization is \"declaring\" the variables inside the function:"
   ]
  },
  {
   "cell_type": "code",
   "execution_count": null,
   "metadata": {},
   "outputs": [],
   "source": [
    "%%cython\n",
    "\n",
    "def f4(double x):\n",
    "    y = x**4 - 3*x\n",
    "    return y\n",
    "    \n",
    "def integrate_f4(double a, double b, int n):\n",
    "    cdef:\n",
    "        double dx = (b - a) / n\n",
    "        double dx2 = dx / 2\n",
    "        double s = f4(a) * dx2\n",
    "        int i = 0\n",
    "    for i in range(1, n):\n",
    "        s += f4(a + i * dx) * dx\n",
    "    s += f4(b) * dx2\n",
    "    return s"
   ]
  },
  {
   "cell_type": "code",
   "execution_count": null,
   "metadata": {},
   "outputs": [],
   "source": [
    "%timeit integrate_f4(-100, 100, 100_000)"
   ]
  },
  {
   "cell_type": "markdown",
   "metadata": {},
   "source": [
    "Here's another way to declare types of elements"
   ]
  },
  {
   "cell_type": "code",
   "execution_count": null,
   "metadata": {},
   "outputs": [],
   "source": [
    "%%cython\n",
    "\n",
    "def f4(double x):\n",
    "    y = x**4 - 3*x\n",
    "    return y\n",
    "    \n",
    "def integrate_f4(double a, double b, int n):\n",
    "    cdef double dx = (b - a) / n\n",
    "    cdef double dx2 = dx / 2\n",
    "    cdef double s = f4(a) * dx2\n",
    "    cdef int i = 0\n",
    "    for i in range(1, n):\n",
    "        s += f4(a + i * dx) * dx\n",
    "    s += f4(b) * dx2\n",
    "    return s"
   ]
  },
  {
   "cell_type": "markdown",
   "metadata": {},
   "source": [
    "3× speedup with so little effort is pretty nice. What else can we do?\n",
    "\n",
    "Cython has a nice \"-a\" flag (for annotation) that can provide clues about why your code is slow.\n",
    "\n",
    "`%%cython -a`"
   ]
  },
  {
   "cell_type": "code",
   "execution_count": null,
   "metadata": {},
   "outputs": [],
   "source": [
    "%%cython -a\n",
    "\n",
    "def f4(double x):\n",
    "    y = x**4 - 3*x\n",
    "    return y\n",
    "    \n",
    "def integrate_f4(double a, double b, int n):\n",
    "    cdef:\n",
    "        double dx = (b - a) / n\n",
    "        double dx2 = dx / 2\n",
    "        double s = f4(a) * dx2\n",
    "        int i = 0\n",
    "    for i in range(1, n):\n",
    "        s += f4(a + i * dx) * dx\n",
    "    s += f4(b) * dx2\n",
    "    return s"
   ]
  },
  {
   "cell_type": "markdown",
   "metadata": {},
   "source": [
    "## Exercise 1!\n",
    "\n",
    "Head over to `cython-primes/exercise.ipynb`.\n",
    "\n",
    "The goal of the exercise is to \"cythonize\" a simple Python function and to get familiar with the workflow."
   ]
  },
  {
   "cell_type": "code",
   "execution_count": null,
   "metadata": {},
   "outputs": [],
   "source": []
  },
  {
   "cell_type": "code",
   "execution_count": null,
   "metadata": {},
   "outputs": [],
   "source": []
  },
  {
   "cell_type": "markdown",
   "metadata": {},
   "source": [
    "## Function specialization"
   ]
  },
  {
   "cell_type": "markdown",
   "metadata": {},
   "source": [
    "`integrate_f4()` still has a lot of yellow! How do we reduce this?\n",
    "\n"
   ]
  },
  {
   "cell_type": "code",
   "execution_count": null,
   "metadata": {
    "scrolled": true
   },
   "outputs": [],
   "source": [
    "%%cython -a\n",
    "\n",
    "cdef double f(double x):\n",
    "    y = x**4 - 3*x\n",
    "    return y\n",
    "    \n",
    "def integrate_f5(double a, double b, int n):\n",
    "    cdef:\n",
    "        double dx = (b - a) / n\n",
    "        double dx2 = dx / 2\n",
    "        double s = f(a) * dx2\n",
    "        int i = 0\n",
    "    for i in range(1, n):\n",
    "        s += f(a + i * dx) * dx\n",
    "    s += f(b) * dx2\n",
    "    return s"
   ]
  },
  {
   "cell_type": "markdown",
   "metadata": {},
   "source": [
    "Tip: Python function calls can be expensive – in Cython doubly so because one might need to convert to and from Python objects to do the call. In our example above, the argument is assumed to be a C double both inside f() and in the call to it, yet a Python float object must be constructed around the argument in order to pass it.\n",
    "\n",
    "Cython provides a syntax for declaring a C-style function.\n",
    "\n",
    "https://cython.readthedocs.io/en/latest/src/tutorial/cython_tutorial.html"
   ]
  },
  {
   "cell_type": "code",
   "execution_count": null,
   "metadata": {},
   "outputs": [],
   "source": [
    "%timeit integrate_f5(-100, 100, 10**5) "
   ]
  },
  {
   "cell_type": "code",
   "execution_count": null,
   "metadata": {},
   "outputs": [],
   "source": [
    "integrate_f5(-100, 100, 0)"
   ]
  },
  {
   "cell_type": "markdown",
   "metadata": {},
   "source": [
    "## Optimization of arithmetic formulas\n"
   ]
  },
  {
   "cell_type": "code",
   "execution_count": null,
   "metadata": {
    "scrolled": true
   },
   "outputs": [],
   "source": [
    "%%cython -a\n",
    "\n",
    "cdef double f(double x):\n",
    "    y = (x*x*x - 3)*x\n",
    "    return y\n",
    "    \n",
    "def integrate_f6(double a, double b, int n):\n",
    "    cdef:\n",
    "        double dx = (b - a) / n\n",
    "        double dx2 = dx / 2\n",
    "        double s = f(a) * dx2\n",
    "        int i = 0\n",
    "    for i in range(1, n):\n",
    "        s += f(a + i * dx) * dx\n",
    "    s += f(b) * dx2\n",
    "    return s"
   ]
  },
  {
   "cell_type": "code",
   "execution_count": null,
   "metadata": {
    "scrolled": true
   },
   "outputs": [],
   "source": [
    "%timeit integrate_f6(-100, 100, 10**5) "
   ]
  },
  {
   "cell_type": "code",
   "execution_count": null,
   "metadata": {},
   "outputs": [],
   "source": [
    "for ifunc in [integrate_f,\n",
    "              integrate_f2,\n",
    "              integrate_f3,\n",
    "              integrate_f4,\n",
    "              integrate_f5,\n",
    "              integrate_f6]:\n",
    "    print(f'{ifunc.__name__} {ifunc(-100, 100, 10**5)}')    "
   ]
  },
  {
   "cell_type": "markdown",
   "metadata": {},
   "source": [
    "### summary of Cython code specializations\n",
    "```\n",
    "  pure python:                 35 ms\n",
    "  python-compatible cython:    24 ms \n",
    "  specialization of arguments: 18 ms\n",
    "  full type specilization:      2.6 ms\n",
    "  c-only function:              6.1 ms\n",
    "  simplified expression form:   0.178 ms\n",
    "```"
   ]
  },
  {
   "cell_type": "code",
   "execution_count": null,
   "metadata": {},
   "outputs": [],
   "source": []
  },
  {
   "cell_type": "markdown",
   "metadata": {},
   "source": [
    "## Exercise 2!\n",
    "\n",
    "Head over to `cython-fibbo/exercise.ipynb`.\n",
    "\n",
    "Watch out — this one is tricky. It shows how naive conversion to C types can lead to unexpected results."
   ]
  },
  {
   "cell_type": "code",
   "execution_count": null,
   "metadata": {},
   "outputs": [],
   "source": []
  },
  {
   "cell_type": "markdown",
   "metadata": {},
   "source": [
    "# Break here?"
   ]
  },
  {
   "cell_type": "code",
   "execution_count": null,
   "metadata": {},
   "outputs": [],
   "source": []
  },
  {
   "cell_type": "markdown",
   "metadata": {},
   "source": [
    "## Using Cython in production code"
   ]
  },
  {
   "cell_type": "code",
   "execution_count": null,
   "metadata": {},
   "outputs": [],
   "source": [
    "%%script true\n",
    "\n",
    "# setup.py — don't run this in the notebook\n",
    "# https://cython.readthedocs.io/en/latest/src/userguide/source_files_and_compilation.html#basic-setup-py\n",
    "\n",
    "from setuptools import setup\n",
    "from Cython.Build import cythonize\n",
    "\n",
    "setup(\n",
    "    ext_modules = cythonize(\"integrate_f5.pyx\")\n",
    ")\n",
    "\n",
    "# run with 'python setup.py build_ext -i'"
   ]
  },
  {
   "cell_type": "code",
   "execution_count": null,
   "metadata": {},
   "outputs": [],
   "source": [
    "%%script true\n",
    "\n",
    "# This is Meson. Do not run in the notebook.\n",
    "# https://mesonbuild.com/Cython.html\n",
    "\n",
    "project('integrate_f5', 'cython')\n",
    "\n",
    "py = import('python').find_installation()\n",
    "\n",
    "py.extension_module(\n",
    "    'integrate_f5',\n",
    "    'integrate_f5.pyx',\n",
    "    dependencies : py.dependency(),\n",
    ")\n",
    "\n",
    "# run with 'meson build-meson && meson compile -C build-meson'"
   ]
  },
  {
   "cell_type": "markdown",
   "metadata": {},
   "source": [
    "# Exercise 3\n",
    "\n",
    "Navigate to `cython-distrib/` in a terminal, follow instructions in the `README` file there.\n",
    "\n",
    "The goal is to build `integrate_f6` using setuptools or Meson."
   ]
  },
  {
   "cell_type": "code",
   "execution_count": null,
   "metadata": {},
   "outputs": [],
   "source": []
  },
  {
   "cell_type": "markdown",
   "metadata": {},
   "source": [
    "### When `setup.py` and when `meson.build`?\n",
    "\n",
    "[<img src=\"Avena-sativa.jpg\" width=\"100\"/>](Avena-sativa.jpg)\n",
    "\n",
    "- setuptools is standard in the Python ecosystem\n",
    "- excellent integration with PyPI and other Python packages\n",
    "- will download wheels from PyPI\n",
    "- clumsy integration with non-Python libraries\n",
    "- weak support for optional dependencies and partial rebuilds\n",
    "\n",
    "[<img src=\"800px-Roundbale1.jpg\" width=\"100\"/>](800px-Roundbale1.jpg)\n",
    "\n",
    "- Meson is arguably the best available build system for compiled code\n",
    "- excellent integration with pkgconfig and other system libraries\n",
    "- no integration with PyPI\n",
    "- excellent support for user configuration, optional dependencies, and partial rebuilds\n",
    "\n",
    "Thus, if setuptools is a good solution for Python projects with some Cython code, and no dependencies on system libraries. Meson is a good solution for some self-contained Python and/or Cython code, possibly alongside other non-Python libraries and executables."
   ]
  },
  {
   "cell_type": "code",
   "execution_count": null,
   "metadata": {},
   "outputs": [],
   "source": []
  },
  {
   "cell_type": "code",
   "execution_count": null,
   "metadata": {},
   "outputs": [],
   "source": []
  },
  {
   "cell_type": "markdown",
   "metadata": {},
   "source": [
    "# Cython architecture"
   ]
  },
  {
   "cell_type": "markdown",
   "metadata": {},
   "source": [
    "[<img src=\"cython_architecture_small.png\" width=\"300\"/>](cython_architecture.png)"
   ]
  },
  {
   "cell_type": "markdown",
   "metadata": {},
   "source": [
    "# Part II: Working with NumPy arrays in Cython"
   ]
  },
  {
   "cell_type": "markdown",
   "metadata": {},
   "source": [
    "The above is a very small subset of Python. Most scientific application deal not with single values, but with arrays of data.\n",
    "\n",
    "When dealing with arrays, we usually want to use \"memoryviews\"."
   ]
  },
  {
   "cell_type": "code",
   "execution_count": null,
   "metadata": {},
   "outputs": [],
   "source": [
    "%load_ext cython"
   ]
  },
  {
   "cell_type": "code",
   "execution_count": null,
   "metadata": {},
   "outputs": [],
   "source": [
    "%%cython -a\n",
    "\n",
    "import cython\n",
    "\n",
    "@cython.boundscheck(False)\n",
    "@cython.wraparound(False)\n",
    "def func_on_array(double [::1] arr):\n",
    "    cdef size_t i, N = arr.size\n",
    "    cdef double sum = 0\n",
    "    for i in range(N):\n",
    "        sum += arr[i]\n",
    "    return sum"
   ]
  },
  {
   "cell_type": "markdown",
   "metadata": {},
   "source": [
    "### A more realistic example of working with arrays"
   ]
  },
  {
   "cell_type": "code",
   "execution_count": null,
   "metadata": {},
   "outputs": [],
   "source": [
    "# %load ../mean3filter/filter.py\n",
    "import numpy as np\n",
    "\n",
    "def mean3filter(arr):\n",
    "    arr_out = np.empty_like(arr)\n",
    "    for i in range(1, arr.shape[0] - 1):\n",
    "        arr_out[i] = arr[i-1:i+2].sum() / 3\n",
    "    arr_out[0] =  (arr[0] + arr[1]) / 2\n",
    "    arr_out[-1] = (arr[-2] + arr[-1]) / 2\n",
    "    return arr_out\n"
   ]
  },
  {
   "cell_type": "code",
   "execution_count": null,
   "metadata": {},
   "outputs": [],
   "source": []
  },
  {
   "cell_type": "code",
   "execution_count": null,
   "metadata": {},
   "outputs": [],
   "source": [
    "r = np.random.rand(10**6)"
   ]
  },
  {
   "cell_type": "code",
   "execution_count": null,
   "metadata": {},
   "outputs": [],
   "source": [
    "%timeit -r 1 mean3filter(r)"
   ]
  },
  {
   "cell_type": "code",
   "execution_count": null,
   "metadata": {},
   "outputs": [],
   "source": [
    "%%cython\n",
    "import numpy as np\n",
    "\n",
    "def mean3filter2(arr):\n",
    "    arr_out = np.empty_like(arr)\n",
    "    for i in range(1, arr.shape[0] - 1):\n",
    "        arr_out[i] = arr[i-1:i+2].sum() / 3\n",
    "    arr_out[0] =  (arr[0] + arr[1]) / 2\n",
    "    arr_out[-1] = (arr[-2] + arr[-1]) / 2\n",
    "    return arr_out"
   ]
  },
  {
   "cell_type": "code",
   "execution_count": null,
   "metadata": {},
   "outputs": [],
   "source": [
    "%timeit -r 1 mean3filter2(r)"
   ]
  },
  {
   "cell_type": "markdown",
   "metadata": {},
   "source": [
    "Rubbish! How do we fix this?"
   ]
  },
  {
   "cell_type": "markdown",
   "metadata": {},
   "source": [
    "### Exercise: use `%%cython -a` to speed up the code\n",
    "\n",
    "See `mean3filter/exercise.ipynb`.\n",
    "The goal of the exercise is to optimize the filter function with cython.\n",
    "\n",
    "Docs: https://cython.readthedocs.io/en/latest/src/tutorial/numpy.html"
   ]
  },
  {
   "cell_type": "code",
   "execution_count": null,
   "metadata": {},
   "outputs": [],
   "source": []
  },
  {
   "cell_type": "markdown",
   "metadata": {},
   "source": [
    "## Parallellization"
   ]
  },
  {
   "cell_type": "markdown",
   "metadata": {
    "collapsed": true
   },
   "source": [
    "**Warning:**: Dragons afoot."
   ]
  },
  {
   "cell_type": "code",
   "execution_count": null,
   "metadata": {},
   "outputs": [],
   "source": [
    "%%cython\n",
    "import cython\n",
    "from cython.parallel import prange\n",
    "import numpy as np\n",
    "\n",
    "@cython.boundscheck(False)\n",
    "@cython.wraparound(False)\n",
    "def mean3filter4(double[::] arr):\n",
    "    cdef double[::] arr_out = np.empty_like(arr)\n",
    "    cdef int i, N = arr_out.size\n",
    "    with nogil:\n",
    "        for i in prange(1, N-1,\n",
    "                        # chunksize=(k-2) // 2, num_threads=2\n",
    "                       ):\n",
    "            arr_out[i] = (arr[i-1]+arr[i]+arr[i+1]) / 3\n",
    "        arr_out[0] = (arr[0] + arr[1]) / 2\n",
    "        arr_out[N-1] = (arr[N-1] + arr[N-2]) / 2\n",
    "    return arr_out"
   ]
  },
  {
   "cell_type": "code",
   "execution_count": null,
   "metadata": {},
   "outputs": [],
   "source": [
    "%timeit mean3filter4(r)"
   ]
  },
  {
   "cell_type": "code",
   "execution_count": null,
   "metadata": {},
   "outputs": [],
   "source": []
  },
  {
   "cell_type": "markdown",
   "metadata": {},
   "source": [
    "# Part III: wrapping external code in Cython"
   ]
  },
  {
   "cell_type": "markdown",
   "metadata": {},
   "source": [
    "`cdef` defines C functions and C variables.\n",
    "\n",
    "Cython obviously knows how to convert Python objects to C variables and back.\n",
    "\n",
    "Wrapping an external function is similar."
   ]
  },
  {
   "cell_type": "markdown",
   "metadata": {},
   "source": [
    "From math.h:\n",
    "\n",
    "```C\n",
    "   double      expm1(double);\n",
    "```\n",
    "\n",
    "It is equivalent to `exp(x) - 1`, but accurate when $x \\approx 0$."
   ]
  },
  {
   "cell_type": "code",
   "execution_count": null,
   "metadata": {},
   "outputs": [],
   "source": [
    "%%cython -a\n",
    "\n",
    "cdef extern from \"math.h\":\n",
    "    double expm1(double)\n",
    "    \n",
    "def native_expm1(double x):\n",
    "    return expm1(x)"
   ]
  },
  {
   "cell_type": "code",
   "execution_count": null,
   "metadata": {},
   "outputs": [],
   "source": [
    "native_expm1(0.1)"
   ]
  },
  {
   "cell_type": "markdown",
   "metadata": {},
   "source": [
    "## Exercise\n",
    "\n",
    "Head over to `cython-zstd/` and see `README`. The goal of the exercise is to wrap the compression and decompression functions for zstd."
   ]
  },
  {
   "cell_type": "code",
   "execution_count": null,
   "metadata": {},
   "outputs": [],
   "source": []
  },
  {
   "cell_type": "code",
   "execution_count": null,
   "metadata": {},
   "outputs": [],
   "source": []
  },
  {
   "cell_type": "markdown",
   "metadata": {},
   "source": [
    "# Part IV: Numba"
   ]
  },
  {
   "cell_type": "code",
   "execution_count": null,
   "metadata": {},
   "outputs": [],
   "source": [
    "from numba import jit\n",
    "\n",
    "@jit\n",
    "def f(x):\n",
    "    y = x**4 - 3*x\n",
    "    return y\n",
    "    \n",
    "@jit\n",
    "def integrate_f7(a, b, n):\n",
    "    dx = (b - a) / n\n",
    "    dx2 = dx / 2\n",
    "    s = f(a) * dx2\n",
    "    for i in range(1, n):\n",
    "        s += f(a + i * dx) * dx\n",
    "    s += f(b) * dx2\n",
    "    return s"
   ]
  },
  {
   "cell_type": "code",
   "execution_count": null,
   "metadata": {},
   "outputs": [],
   "source": [
    "%%timeit -n 1 -r 1\n",
    "\n",
    "integrate_f7(-100, 100, 100_000)"
   ]
  },
  {
   "cell_type": "code",
   "execution_count": null,
   "metadata": {},
   "outputs": [],
   "source": [
    "%timeit integrate_f7(-100, 100, 100_000) "
   ]
  },
  {
   "cell_type": "code",
   "execution_count": null,
   "metadata": {},
   "outputs": [],
   "source": [
    "integrate_f7"
   ]
  },
  {
   "cell_type": "code",
   "execution_count": null,
   "metadata": {},
   "outputs": [],
   "source": []
  },
  {
   "cell_type": "markdown",
   "metadata": {},
   "source": [
    "## Functions jitted with numba"
   ]
  },
  {
   "cell_type": "code",
   "execution_count": null,
   "metadata": {},
   "outputs": [],
   "source": [
    "@jit\n",
    "def f(a, b):\n",
    "    return a + b * 2"
   ]
  },
  {
   "cell_type": "code",
   "execution_count": null,
   "metadata": {},
   "outputs": [],
   "source": [
    "f(1, 2)\n",
    "f(1.0, 2.0)\n",
    "f(\"a\", \"y\")"
   ]
  },
  {
   "cell_type": "code",
   "execution_count": null,
   "metadata": {},
   "outputs": [],
   "source": [
    "f.signatures"
   ]
  },
  {
   "cell_type": "code",
   "execution_count": null,
   "metadata": {},
   "outputs": [],
   "source": [
    "one = np.eye(5)"
   ]
  },
  {
   "cell_type": "code",
   "execution_count": null,
   "metadata": {},
   "outputs": [],
   "source": [
    "f(one, 5)"
   ]
  },
  {
   "cell_type": "code",
   "execution_count": null,
   "metadata": {},
   "outputs": [],
   "source": [
    "f.signatures"
   ]
  },
  {
   "cell_type": "code",
   "execution_count": null,
   "metadata": {},
   "outputs": [],
   "source": [
    "f([1, 2], [3, 4])"
   ]
  },
  {
   "cell_type": "code",
   "execution_count": null,
   "metadata": {},
   "outputs": [],
   "source": [
    "f.nopython_signatures"
   ]
  },
  {
   "cell_type": "markdown",
   "metadata": {},
   "source": [
    "### Ahead-of-time compilation"
   ]
  },
  {
   "cell_type": "code",
   "execution_count": null,
   "metadata": {},
   "outputs": [],
   "source": [
    "import numba\n",
    "\n",
    "@numba.jit(numba.types.int32(numba.types.int32))\n",
    "def f(x):\n",
    "    y = x**4 - 3*x\n",
    "    return y"
   ]
  },
  {
   "cell_type": "code",
   "execution_count": null,
   "metadata": {},
   "outputs": [],
   "source": [
    "f(33)"
   ]
  },
  {
   "cell_type": "code",
   "execution_count": null,
   "metadata": {},
   "outputs": [],
   "source": [
    "f(33.5)"
   ]
  },
  {
   "cell_type": "code",
   "execution_count": null,
   "metadata": {},
   "outputs": [],
   "source": [
    "f(np.eye(3))"
   ]
  },
  {
   "cell_type": "code",
   "execution_count": null,
   "metadata": {},
   "outputs": [],
   "source": [
    "f.signatures"
   ]
  },
  {
   "cell_type": "markdown",
   "metadata": {},
   "source": [
    "When `jit()` is called with a set of types, the compilation is *eager* (happens immediately).\n",
    "\n",
    "Doing this allows precise control over types.\n",
    "\n",
    "It is also possible to require `nopython` mode. Numba will raise an error if this is not possible. `@numba.jit(nopython=True)` is equivalent to `@numba.njit`. It is recommended to use `njit` over `jit`."
   ]
  },
  {
   "cell_type": "code",
   "execution_count": null,
   "metadata": {},
   "outputs": [],
   "source": [
    "@njit\n",
    "def f(...):\n",
    "    ..."
   ]
  },
  {
   "cell_type": "markdown",
   "metadata": {},
   "source": [
    "## Arithemetic optimization"
   ]
  },
  {
   "cell_type": "code",
   "execution_count": null,
   "metadata": {},
   "outputs": [],
   "source": [
    "from numba import jit\n",
    "\n",
    "@jit\n",
    "def f(x):\n",
    "    y = (x*x*x - 3)*x\n",
    "    return y\n",
    "    \n",
    "@jit\n",
    "def integrate_f8(a, b, n):\n",
    "    dx = (b - a) / n\n",
    "    dx2 = dx / 2\n",
    "    s = f(a) * dx2\n",
    "    for i in range(1, n):\n",
    "        s += f(a + i * dx) * dx\n",
    "    s += f(b) * dx2\n",
    "    return s"
   ]
  },
  {
   "cell_type": "code",
   "execution_count": null,
   "metadata": {},
   "outputs": [],
   "source": [
    "%timeit integrate_f8(-100, 100, 100_000) "
   ]
  },
  {
   "cell_type": "markdown",
   "metadata": {},
   "source": [
    "Numba is able to do loop unrolling and arithemetic optmization!"
   ]
  },
  {
   "cell_type": "markdown",
   "metadata": {},
   "source": [
    "# Numba architecture"
   ]
  },
  {
   "cell_type": "markdown",
   "metadata": {},
   "source": [
    "[<img src=\"numba_architecture.png\" width=\"500\" />](numba_architecture.png)"
   ]
  },
  {
   "cell_type": "markdown",
   "metadata": {},
   "source": [
    "## Numba and array operations"
   ]
  },
  {
   "cell_type": "markdown",
   "metadata": {},
   "source": [
    "### Exercise\n",
    "\n",
    "Write a mean filter using Numba, and time it, using `-r 1 -n 1` as above. How does it compare to Cython?"
   ]
  },
  {
   "cell_type": "code",
   "execution_count": null,
   "metadata": {},
   "outputs": [],
   "source": [
    "import numpy as np\n",
    "import numba\n",
    "\n",
    "@numba.jit\n",
    "def mean3filter_nb(arr):\n",
    "    arr_out = np.empty_like(arr)\n",
    "    for i in range(1, arr.shape[0] - 1):\n",
    "        arr_out[i] = np.sum(arr[i-1:i+2]) / 3\n",
    "    arr_out[0] = (arr[0] + arr[1]) / 2\n",
    "    arr_out[-1] = (arr[-1] + arr[-2]) / 2\n",
    "    return arr_out"
   ]
  },
  {
   "cell_type": "code",
   "execution_count": null,
   "metadata": {},
   "outputs": [],
   "source": [
    "r = np.random.rand(10**6)\n",
    "\n",
    "%timeit -r 1 -n 1 mean3filter_nb(r)  # jit warmup"
   ]
  },
  {
   "cell_type": "code",
   "execution_count": null,
   "metadata": {
    "scrolled": true
   },
   "outputs": [],
   "source": [
    "%timeit -r 1 -n 1 mean3filter_nb(r)  # faster!"
   ]
  },
  {
   "cell_type": "code",
   "execution_count": null,
   "metadata": {},
   "outputs": [],
   "source": [
    "# https://numba.readthedocs.io/en/stable/user/stencil.html\n",
    "\n",
    "import numba\n",
    "\n",
    "@numba.stencil\n",
    "def _mean3filter_stencil(arr):\n",
    "    return (arr[-1]+arr[0]+arr[1])/3\n",
    "\n",
    "@numba.jit\n",
    "def mean3filter_stencil(arr):\n",
    "    arr_out = _mean3filter_stencil(arr)\n",
    "    arr_out[0] = (arr[0] + arr[1]) / 2\n",
    "    arr_out[-1] = (arr[-1] + arr[-2]) / 2\n",
    "    return arr_out"
   ]
  },
  {
   "cell_type": "code",
   "execution_count": null,
   "metadata": {},
   "outputs": [],
   "source": [
    "mean3filter_nb(r)"
   ]
  },
  {
   "cell_type": "code",
   "execution_count": null,
   "metadata": {},
   "outputs": [],
   "source": [
    " mean3filter_stencil(r)"
   ]
  },
  {
   "cell_type": "code",
   "execution_count": null,
   "metadata": {},
   "outputs": [],
   "source": [
    "%timeit -r 1 -n 1 mean3filter_stencil(r)  # faster!"
   ]
  },
  {
   "cell_type": "code",
   "execution_count": null,
   "metadata": {},
   "outputs": [],
   "source": []
  },
  {
   "cell_type": "markdown",
   "metadata": {},
   "source": [
    "# Let's not forget `numpy` (and C)\n"
   ]
  },
  {
   "cell_type": "code",
   "execution_count": null,
   "metadata": {},
   "outputs": [],
   "source": [
    "import numpy as np\n",
    "def f(x):\n",
    "    y = x**4 - 3*x\n",
    "    return y\n",
    "\n",
    "def integrate_f8(a, b, n):   \n",
    "    dx = (b - a) / n\n",
    "    dx2  = dx / 2\n",
    "    x = np.linspace(a, b, n)\n",
    "    s = f(x)\n",
    "    s = s[0]*dx2 + s[1:-1].sum()*dx + s[-1]*dx2 \n",
    "    \n",
    "    return s\n",
    "\n",
    "integrate_f8(-100, 100, 100_000)"
   ]
  },
  {
   "cell_type": "code",
   "execution_count": null,
   "metadata": {
    "scrolled": true
   },
   "outputs": [],
   "source": [
    "%timeit integrate_f8(-100, 100, 100_000)"
   ]
  },
  {
   "cell_type": "code",
   "execution_count": null,
   "metadata": {},
   "outputs": [],
   "source": [
    "import numpy as np\n",
    "def f9(x):\n",
    "    y = (x*x*x - 3)*x\n",
    "    return y\n",
    "\n",
    "def integrate_f9(a, b, n):   \n",
    "    dx = (b - a) / n\n",
    "    dx2  = dx / 2\n",
    "    x = np.linspace(a, b, n)\n",
    "    s = f9(x)\n",
    "    s = s[0]*dx2 + s[1:-1].sum()*dx + s[-1]*dx2 \n",
    "    \n",
    "    return s\n",
    "\n",
    "integrate_f8(-100, 100, 100_000)"
   ]
  },
  {
   "cell_type": "code",
   "execution_count": null,
   "metadata": {
    "scrolled": true
   },
   "outputs": [],
   "source": [
    "%timeit integrate_f9(-100, 100, 100_000)"
   ]
  },
  {
   "cell_type": "code",
   "execution_count": null,
   "metadata": {},
   "outputs": [],
   "source": []
  },
  {
   "cell_type": "markdown",
   "metadata": {},
   "source": [
    "# Side demo\n",
    "\n",
    "`c-integrate/` directory contains C code that can be compiled and used as a benchmark to compare to Cython and Numba."
   ]
  },
  {
   "cell_type": "markdown",
   "metadata": {},
   "source": [
    "### Summary of Python vs. Cython vs. Numba vs. C\n",
    "```\n",
    "pure python:                  33 ms\n",
    "python-compatible cython:     24 ms \n",
    "specialization of arguments:  18 ms\n",
    "full type specilization:      13 ms\n",
    "c-only function:               6 ms\n",
    "simplified expression form:    0.178 ms\n",
    "\n",
    "numba jit:                     0.170 ms\n",
    "\n",
    "numpy:                         7 ms\n",
    "numpy simplified expression:   0.500 ms\n",
    "    \n",
    "plain C (-O0):                 7.3 ms\n",
    "C simplified expression (-O0): 1.5 ms\n",
    "C simplified expression (-O3): 0.200 ms\n",
    "                               0.164 with -march=native\n",
    "                               0.052 with -ffast-math                               \n",
    "```                             \n",
    "\n",
    "(For `-ffast-math` see https://gcc.gnu.org/wiki/FloatingPointMath)"
   ]
  },
  {
   "cell_type": "markdown",
   "metadata": {},
   "source": [
    "# Automatic parallelization in numba"
   ]
  },
  {
   "cell_type": "code",
   "execution_count": null,
   "metadata": {},
   "outputs": [],
   "source": [
    "def trig_ident_np(x):\n",
    "    return (np.sin(x)**2 + np.cos(x)**2 +\n",
    "            np.sin(x)**2 + np.cos(x)**2 +\n",
    "            np.sin(x)**2 + np.cos(x)**2 +\n",
    "            np.sin(x)**2 + np.cos(x)**2).sum()/4\n",
    "\n",
    "@jit\n",
    "def trig_ident_jit(x):\n",
    "    s = 0    \n",
    "    for i in range(x.shape[0]):\n",
    "        for j in range(x.shape[1]):\n",
    "            s += (np.sin(x[i,j])**2 + np.cos(x[i,j])**2 +\n",
    "                  np.sin(x[i,j])**2 + np.cos(x[i,j])**2 +\n",
    "                  np.sin(x[i,j])**2 + np.cos(x[i,j])**2 +\n",
    "                  np.sin(x[i,j])**2 + np.cos(x[i,j])**2) / 4\n",
    "    return s\n",
    "\n",
    "@jit(parallel=True)\n",
    "def trig_ident_jit_parallel(x):\n",
    "    return (np.sin(x)**2 + np.cos(x)**2 +\n",
    "            np.sin(x)**2 + np.cos(x)**2 +\n",
    "            np.sin(x)**2 + np.cos(x)**2 +\n",
    "            np.sin(x)**2 + np.cos(x)**2).sum()/4"
   ]
  },
  {
   "cell_type": "code",
   "execution_count": null,
   "metadata": {},
   "outputs": [],
   "source": [
    "x = np.random.randn(5,5)\n",
    "x"
   ]
  },
  {
   "cell_type": "code",
   "execution_count": null,
   "metadata": {},
   "outputs": [],
   "source": [
    "trig_ident_np(x)"
   ]
  },
  {
   "cell_type": "code",
   "execution_count": null,
   "metadata": {},
   "outputs": [],
   "source": [
    "x = np.random.randn(500, 50_000)"
   ]
  },
  {
   "cell_type": "code",
   "execution_count": null,
   "metadata": {},
   "outputs": [],
   "source": [
    "%timeit -r 1 trig_ident_np(x)"
   ]
  },
  {
   "cell_type": "code",
   "execution_count": null,
   "metadata": {},
   "outputs": [],
   "source": [
    "%timeit trig_ident_jit(x)"
   ]
  },
  {
   "cell_type": "code",
   "execution_count": null,
   "metadata": {
    "scrolled": true
   },
   "outputs": [],
   "source": [
    "%timeit trig_ident_jit_parallel(x)"
   ]
  },
  {
   "cell_type": "markdown",
   "metadata": {},
   "source": [
    "# Exercise\n",
    "\n",
    "Open `numba-dot/exercise.ipynb`, see instructions therein."
   ]
  },
  {
   "cell_type": "markdown",
   "metadata": {},
   "source": [
    "## Concluding remarks"
   ]
  },
  {
   "cell_type": "markdown",
   "metadata": {},
   "source": [
    "Some pros and cons about Cython and Numba:\n",
    "\n",
    "- Cython pros:\n",
    "  * very wide support\n",
    "  * easy to distribute compiled code to most users\n",
    "  * quite developed optimizing workflow (i.e. cython -a)\n",
    "- Cython cons:\n",
    "  * need to use a new language\n",
    "\n",
    "- Numba pros:\n",
    "  * quite easy to use, especially if you're starting from Cython code\n",
    "  * often eye-popping, face-melting performance\n",
    "  * just-in-time compilation\n",
    "- Numba cons:\n",
    "  * just-in-time compilation\n",
    "  * requires a specific version on llvm, often not available as distro package\n",
    "  * hard to optimise. If it's slow, you have to guess (though they are helpful on mailing list)\n",
    "  * many parts of Python still unsupported, e.g. dicts.\n",
    "  * project still young and some people are paranoid that it could disappear"
   ]
  },
  {
   "cell_type": "markdown",
   "metadata": {},
   "source": [
    "# Documentation\n",
    "\n",
    "- Exercises and repo: https://github.com/ASPP/2021-bordeaux-profiling-cython-numba\n",
    "- This notebook:\n",
    "- Cython:\n",
    "  - https://cython.readthedocs.io/en/latest/\n",
    "  - https://cython.readthedocs.io/en/latest/src/userguide/numpy_tutorial.html\n",
    "- Numba:\n",
    "  - http://numba.pydata.org/numba-doc/latest/index.html"
   ]
  }
 ],
 "metadata": {
  "kernelspec": {
   "display_name": "Python 3",
   "language": "python",
   "name": "python3"
  },
  "language_info": {
   "codemirror_mode": {
    "name": "ipython",
    "version": 3
   },
   "file_extension": ".py",
   "mimetype": "text/x-python",
   "name": "python",
   "nbconvert_exporter": "python",
   "pygments_lexer": "ipython3",
   "version": "3.9.6"
  }
 },
 "nbformat": 4,
 "nbformat_minor": 1
}
