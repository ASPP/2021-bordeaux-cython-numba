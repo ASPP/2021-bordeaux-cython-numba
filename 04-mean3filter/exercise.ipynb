{
 "cells": [
  {
   "cell_type": "markdown",
   "metadata": {},
   "source": [
    "## Exercise 4: Smoothing"
   ]
  },
  {
   "cell_type": "code",
   "execution_count": null,
   "metadata": {},
   "outputs": [],
   "source": [
    "%load_ext cython"
   ]
  },
  {
   "cell_type": "markdown",
   "metadata": {},
   "source": [
    "### Step 1\n",
    "0. Measure the runtime of the pure Python implementation.\n",
    "1. Use Cython to speed up the calculation.\n",
    "2. Check times with `%timeit`.\n",
    "\n",
    "Hint: use `%%cython -a` to get hints about Python<->interaction.\n",
    "Hint: use `-r<number of runs>` to limit the number of runs for the `%timeit` magic."
   ]
  },
  {
   "cell_type": "code",
   "execution_count": null,
   "metadata": {},
   "outputs": [],
   "source": [
    "import numpy as np\n",
    "\n",
    "def mean3filter(arr):\n",
    "    arr_out = np.empty_like(arr)\n",
    "    for i in range(1, arr.shape[0] - 1):\n",
    "        arr_out[i] = arr[i-1:i+2].sum() / 3\n",
    "    arr_out[0] =  (arr[0] + arr[1]) / 2\n",
    "    arr_out[-1] = (arr[-2] + arr[-1]) / 2\n",
    "    return arr_out"
   ]
  },
  {
   "cell_type": "code",
   "execution_count": null,
   "metadata": {},
   "outputs": [],
   "source": [
    "data = np.random.random(size=10**6)"
   ]
  },
  {
   "cell_type": "code",
   "execution_count": null,
   "metadata": {},
   "outputs": [],
   "source": [
    "%timeit -r1 mean3filter(data)"
   ]
  },
  {
   "cell_type": "markdown",
   "metadata": {},
   "source": [
    "### Step 2\n",
    "There's still some yellow highlights left. These reflect (1) bounds checks to make sure we don't try to access past the size of the array and (2) support for negative indices counting from the back of the array. *If we are certain that we don't need either of these*, we can disable them via the `@cython.boundscheck(False)` and `@cython.wraparound(False)` decorators. Try these decorators on your cythonized function and measure the speedup."
   ]
  },
  {
   "cell_type": "code",
   "execution_count": null,
   "metadata": {},
   "outputs": [],
   "source": []
  }
 ],
 "metadata": {
  "kernelspec": {
   "display_name": "Python 3 (ipykernel)",
   "language": "python",
   "name": "python3"
  },
  "language_info": {
   "codemirror_mode": {
    "name": "ipython",
    "version": 3
   },
   "file_extension": ".py",
   "mimetype": "text/x-python",
   "name": "python",
   "nbconvert_exporter": "python",
   "pygments_lexer": "ipython3",
   "version": "3.8.11"
  }
 },
 "nbformat": 4,
 "nbformat_minor": 4
}
